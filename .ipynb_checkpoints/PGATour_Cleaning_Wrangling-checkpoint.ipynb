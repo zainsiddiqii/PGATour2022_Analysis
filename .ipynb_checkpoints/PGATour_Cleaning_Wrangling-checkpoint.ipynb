{
 "cells": [
  {
   "cell_type": "markdown",
   "metadata": {},
   "source": [
    "# Analysing statistics for PGA Tour players in the 2022 season\n",
    "\n",
    "In this notebook, I will be using data from __[Advanced Sports Analytics](https://www.advancedsportsanalytics.com/pga-raw-data)__ to look at different statistics for PGA Tour players in the 2022 season. "
   ]
  },
  {
   "cell_type": "markdown",
   "metadata": {},
   "source": [
    "0. The first step is to import the necessary libraries for our analysis"
   ]
  },
  {
   "cell_type": "code",
   "execution_count": 1,
   "metadata": {},
   "outputs": [],
   "source": [
    "import pandas as pd\n",
    "import numpy as np\n",
    "import datetime"
   ]
  },
  {
   "cell_type": "markdown",
   "metadata": {},
   "source": [
    "1. The next step is to import the data and inspect it to look at the different columns, data types, and to check for null values. "
   ]
  },
  {
   "cell_type": "code",
   "execution_count": 2,
   "metadata": {},
   "outputs": [
    {
     "name": "stdout",
     "output_type": "stream",
     "text": [
      "Initial look at raw dataset:\n",
      "   Player_initial_last  tournament id  player id  hole_par  strokes  hole_DKP  \\\n",
      "0            A. Ancer      401353224       9261       288      289      60.0   \n",
      "1           A. Hadwin      401353224       5548       288      286      72.5   \n",
      "2           A. Lahiri      401353224       4989       144      147      21.5   \n",
      "3             A. Long      401353224       6015       144      151      20.5   \n",
      "4            A. Noren      401353224       3832       144      148      23.5   \n",
      "\n",
      "   hole_FDP  hole_SDP  streak_DKP  streak_FDP  ...  purse  season  no_cut  \\\n",
      "0      51.1        56           3         7.6  ...   12.0    2022       0   \n",
      "1      61.5        61           8        13.0  ...   12.0    2022       0   \n",
      "2      17.4        27           0         0.0  ...   12.0    2022       0   \n",
      "3      13.6        17           0         0.4  ...   12.0    2022       0   \n",
      "4      18.1        23           0         1.2  ...   12.0    2022       0   \n",
      "\n",
      "   Finish  sg_putt  sg_arg  sg_app  sg_ott  sg_t2g  sg_total  \n",
      "0     T32     0.20   -0.13   -0.08    0.86    0.65      0.85  \n",
      "1     T18     0.36    0.75    0.31    0.18    1.24      1.60  \n",
      "2     CUT    -0.56    0.74   -1.09    0.37    0.02     -0.54  \n",
      "3     CUT    -1.46   -1.86   -0.02    0.80   -1.08     -2.54  \n",
      "4     CUT     0.53   -0.36   -1.39    0.19   -1.56     -1.04  \n",
      "\n",
      "[5 rows x 37 columns]\n",
      "----------------------------------------------------------------------------------------------------\n",
      "Data types for raw dataset:\n",
      " Player_initial_last     object\n",
      "tournament id            int64\n",
      "player id                int64\n",
      "hole_par                 int64\n",
      "strokes                  int64\n",
      "hole_DKP               float64\n",
      "hole_FDP               float64\n",
      "hole_SDP                 int64\n",
      "streak_DKP               int64\n",
      "streak_FDP             float64\n",
      "streak_SDP               int64\n",
      "n_rounds                 int64\n",
      "made_cut                 int64\n",
      "pos                    float64\n",
      "finish_DKP               int64\n",
      "finish_FDP               int64\n",
      "finish_SDP               int64\n",
      "total_DKP              float64\n",
      "total_FDP              float64\n",
      "total_SDP                int64\n",
      "player                  object\n",
      "Unnamed: 2             float64\n",
      "Unnamed: 3             float64\n",
      "Unnamed: 4             float64\n",
      "tournament name         object\n",
      "course                  object\n",
      "date                    object\n",
      "purse                  float64\n",
      "season                   int64\n",
      "no_cut                   int64\n",
      "Finish                  object\n",
      "sg_putt                float64\n",
      "sg_arg                 float64\n",
      "sg_app                 float64\n",
      "sg_ott                 float64\n",
      "sg_t2g                 float64\n",
      "sg_total               float64\n",
      "dtype: object\n",
      "----------------------------------------------------------------------------------------------------\n",
      "Null values in each column:\n",
      " Player_initial_last       0\n",
      "tournament id             0\n",
      "player id                 0\n",
      "hole_par                  0\n",
      "strokes                   0\n",
      "hole_DKP                  0\n",
      "hole_FDP                  0\n",
      "hole_SDP                  0\n",
      "streak_DKP                0\n",
      "streak_FDP                0\n",
      "streak_SDP                0\n",
      "n_rounds                  0\n",
      "made_cut                  0\n",
      "pos                    1631\n",
      "finish_DKP                0\n",
      "finish_FDP                0\n",
      "finish_SDP                0\n",
      "total_DKP                 0\n",
      "total_FDP                 0\n",
      "total_SDP                 0\n",
      "player                    0\n",
      "Unnamed: 2             3676\n",
      "Unnamed: 3             3676\n",
      "Unnamed: 4             3676\n",
      "tournament name           0\n",
      "course                    0\n",
      "date                      0\n",
      "purse                     0\n",
      "season                    0\n",
      "no_cut                    0\n",
      "Finish                  567\n",
      "sg_putt                 568\n",
      "sg_arg                  568\n",
      "sg_app                  568\n",
      "sg_ott                  568\n",
      "sg_t2g                  568\n",
      "sg_total                567\n",
      "dtype: int64\n"
     ]
    }
   ],
   "source": [
    "# Import the data into a pandas dataframe\n",
    "pga_data = pd.read_csv('pgatour_22.csv')\n",
    "#Print the first 5 rows the data to see how the data is arranged into rows and columns\n",
    "print('Initial look at raw dataset:\\n',pga_data.head())\n",
    "#Print the data types of our columns\n",
    "print('-'*100)\n",
    "print('Data types for raw dataset:\\n',pga_data.dtypes)\n",
    "#Print the number of null values in each column\n",
    "print('-'*100)\n",
    "print('Null values in each column:\\n',pga_data.isna().sum())"
   ]
  },
  {
   "cell_type": "code",
   "execution_count": 3,
   "metadata": {},
   "outputs": [
    {
     "name": "stdout",
     "output_type": "stream",
     "text": [
      "0      Abraham Ancer\n",
      "1        Adam Hadwin\n",
      "2     Anirban Lahiri\n",
      "3          Adam Long\n",
      "4    Alexander Noren\n",
      "Name: player, dtype: object\n",
      "0     A. Ancer\n",
      "1    A. Hadwin\n",
      "2    A. Lahiri\n",
      "3      A. Long\n",
      "4     A. Noren\n",
      "Name: Player_initial_last, dtype: object\n",
      "----------------------------------------------------------------------------------------------------\n",
      "Number of unique tournaments played: 32\n",
      "Number of unique players: 337\n"
     ]
    }
   ],
   "source": [
    "#Check the player column to see the data it gives us, as we also have a player_intial_last column\n",
    "print(pga_data.player.head())\n",
    "print(pga_data.Player_initial_last.head())\n",
    "print('-'*100)\n",
    "#Get the number of tournaments we have information about\n",
    "print('Number of unique tournaments played:',pga_data['tournament name'].nunique())\n",
    "print('Number of unique players:',pga_data.player.nunique())"
   ]
  },
  {
   "cell_type": "markdown",
   "metadata": {
    "tags": []
   },
   "source": [
    "## Data Info\n",
    "\n",
    "1. It looks like we have 37 columns with information about 67 tournaments and 499 players from the 2018-2022 season.\n",
    " \n",
    "    1. `hole_par` tells us the total shots a player must shoot to score level par accorindg to the amount of rounds they've played (2 rounds ~ 144, 4 rounds ~ 288)\n",
    "    2. `strokes` tells us the number of strokes the player made on the hole. For example, if a player makes 6 strokes on a par 4, their score for the hole is +2, or 2 strokes over par!\n",
    "    3. `num_rounds` tells us the number of rounds the player played in a certain tournament. It usually has values of either 2 or 4 (explanation below).\n",
    "    4. `made_cut` tells us whether a player made the *cut* (1) or not (0). PGA Tour events last 4 days and the playing field is **cut** in half after the end of the 2nd day, meaning players that *made the cut* play 4 rounds, but players that do not make the cut play 2 rounds. It could be that a player was disqualified or had to withdraw during the 1st or 3rd round, but values of 1 or 3 in `num_rounds` would be rare (good to be aware of them though!).\n",
    "    5. `pos` tells us the position the player finished at the end of the tournament in `float` form, so if a player did not make the cut, it gives a `NaN` value.\n",
    "    6. `date` gives us the date (normal `yyyy-mm-dd` form) on which a certain row gives information about.\n",
    "    7. `purse` is the prize money for the tournament in Millions.\n",
    "    8. `no_cut` tell us whether a tournament had a cut or not, this information is somewhat important as most tournaments **do** have cuts, so we might want to filter these out.\n",
    "    9. `Finish` gives the same information as `pos` and a little more (tells us whether a player is Tied for a position, didn't make the cut (CUT), withdrew (WD), or got disqualified (DQ)) but displays the information in a way familiar to golfers (CUT meaning the player didn't make the cut, Tnum meaning the player tied for num-th place.)\n",
    "    10. `sg-` means **strokes gained** and is a comparison of the player's performance with the rest of the field (Please see https://www.pgatour.com/news/2016/05/31/strokes-gained-defined.html)\n",
    "        1. `sg_putt` means strokes gained putting.\n",
    "        2. `sg_arg` means strokes gained around the green (within 30 yards of green) (the *green* is the surface where the hole is located).\n",
    "        3. `sg_agg` means strokes gained approach the green (any shot hit towards the green that is not a tee shot on a par 4 or par 5, but includes tee shots on par 3s) (a tee shot is the first shot on any hole).\n",
    "        4. `sg_ott` means strokes gained off the tee.\n",
    "        5. `sg_t2g` means strokes gained tee to green (`sg_t2g = sg_arg + sg_agg + sg_ott`)\n",
    "        6. `sg_total = sg_t2g + sg_putt`"
   ]
  },
  {
   "cell_type": "markdown",
   "metadata": {},
   "source": [
    "## Data Cleaning strategy\n",
    "\n",
    "1. The naming of the columns is very inconsistent as some column names have title style while some do not, some contain underscores while some do not etc. The naming will have to be fixed. Some of the names of the columns also do not do a great job of explaining what the columns values are representing, especially for non-golfing audiences.\n",
    "\n",
    "2. The columns that contain the three letter acronyms *FDP, DKP, SDP* have to do with Draft King / Fantasy Drafts, i.e. leagues where followers of the tour can select players to be in their 'fantasy team' and see who gets the most points. This data is of little use to my analysis here as we are MOSTLY INTERESTED IN THE STATS OF THE PLAYERS THEMSELVES.\n",
    "**These columns (12) will be removed**\n",
    "\n",
    "3. We have columns in the form `Unnamed: number` which only contain null values.\n",
    "**These columns (3) will also be removed**\n",
    "\n",
    "4. There are 2 columns containing information about the Players name: `Player_initial_last` and `Player`.\n",
    "**This is giving us redundant information and can definitely be reduced into one column**\n",
    "\n",
    "5. `pos` and `Finish` give us the same information as different data types, but it easier working with numeric data types. Whether a player ties for 2nd place or comes solo 2nd is not of much importance to us. If `made_cut` is False, then the `pos` is `NaN`. Where Finish is `null`, the position column is sometimes `not null` and vice versa. However, where both `Finish` and `pos` are `Null`, the strokes gained columns are also `null`. \n",
    "**`Finish` and `pos` are thus both important. The rows where Finish and pos are null also have all the strokes gained columns as null, so these values will have to be filled in using other data. For clarity, if the player did not make a cut, the value in the pos column will be set to 0, to separate the missed cuts data points to data points where we have missing data**\n",
    "\n",
    "6. `course` contains the course name, city, and state the golf tournament was held in. \n",
    "**For easy access to information, we can split the data into 3 columns: `course`, `city`, `state`**\n",
    "\n",
    "7. There are some tournaments in our data that we are not interested in:\n",
    "Corales Puntacana Resort & Club Championship, Puerto Rico Open, AT&T Pebble Beach Pro-Am, Mayakoba Golf Classic, and Bermuda Championship will be removed from our data."
   ]
  },
  {
   "cell_type": "code",
   "execution_count": 4,
   "metadata": {},
   "outputs": [],
   "source": [
    "# Remove columns with the fantasy leagues information\n",
    "pga_data = pga_data[pga_data.columns.drop(list(pga_data.filter(regex=\\\n",
    "                                                               '(hole|streak|finish|total)\\_[DFS][KD]P')))]\n",
    "pga_data = pga_data[pga_data.columns.drop(list(pga_data.filter(regex='Unnamed: \\d')))]\n",
    "\n",
    "#Make the made_cut column a boolean dtype column\n",
    "pga_data['made_cut'] = pga_data.made_cut.replace([0, 1], [False, True])\n",
    "pga_data['no_cut'] = pga_data.no_cut.replace([0, 1], [False, True])\n",
    "\n",
    "#split information in course into 3 columns: course, city, and state\n",
    "course_data = pga_data.course.str.split('-')\n",
    "pga_data.course = course_data.str.get(0).str.strip().astype('string')\n",
    "city_state = course_data.str.get(1)\n",
    "city_state = city_state.str.split(',')\n",
    "pga_data['city'] = city_state.str.get(0).str.strip().astype('string')\n",
    "pga_data['state'] = city_state.str.get(1).str.strip().astype('string')\n",
    "\n",
    "#Use pos and Finish columns to help fill each other\n",
    "pos_str = pga_data['pos'].astype('object')\n",
    "pga_data['Finish'].fillna(pos_str, inplace=True)\n",
    "\n",
    "'''creates a new position column that is the same as pos \n",
    "except where Finish is NaN, where it is filled with 0s'''\n",
    "pga_data['position'] = pga_data.Finish.apply(lambda x: 0 if (str(x) == 'CUT') or (str(x) == 'DQ') or (str(x) == 'WD') or (str(x) == 'MDF') else\\\n",
    "                                         (np.nan if x == np.nan else (str(x).strip('T') if str(x)[0] == 'T' else x))).astype('float')\n",
    "\n",
    "#Change the dtypes of columns to correct dtypes suiting data\n",
    "pga_data['tournament name'] = pga_data['tournament name'].astype('string')\n",
    "pga_data['Finish'] = pga_data['Finish'].astype('string')\n",
    "pga_data['course'] = pga_data.course.astype('string')\n",
    "pga_data['date'] = pd.to_datetime(pga_data.date)\n",
    "pga_data['player'] = pga_data['player'].astype('string')\n",
    "pga_data['tournament id'] = pga_data['tournament id'].astype('string')\n",
    "pga_data['player id'] = pga_data['player id'].astype('string')"
   ]
  },
  {
   "cell_type": "code",
   "execution_count": 5,
   "metadata": {},
   "outputs": [],
   "source": [
    "#Remove tournaments we are not interested in\n",
    "pga_data = pga_data[(pga_data['tournament name'] != 'Corales Puntacana Resort & Club Championship') \\\n",
    "                    & (pga_data['tournament name'] != 'Puerto Rico Open') & \\\n",
    "                    (pga_data['tournament name'] != 'AT&T Pebble Beach Pro-Am') &\\\n",
    "                   (pga_data['tournament name'] != 'Mayakoba Golf Classic') &\\\n",
    "                   (pga_data['tournament name'] != 'Bermuda Championship')]\n",
    "\n",
    "#rename column names to match python variable naming convention\n",
    "pga_data = pga_data.rename(columns = {'tournament id': 'tournament_id', 'player id': 'player_id',\\\n",
    "                                     'n_rounds': 'rounds_played', 'tournament name': 'tournament',\\\n",
    "                                     'Finish': 'finish'})\n",
    "\n",
    "#get rid of redundant columns\n",
    "pga_data = pga_data.drop(columns = ['Player_initial_last','hole_par','season','pos'])"
   ]
  },
  {
   "cell_type": "code",
   "execution_count": 6,
   "metadata": {},
   "outputs": [
    {
     "name": "stdout",
     "output_type": "stream",
     "text": [
      "{0: 'tournament_id', 1: 'player_id', 2: 'strokes', 3: 'rounds_played', 4: 'made_cut', 5: 'player', 6: 'tournament', 7: 'course', 8: 'date', 9: 'purse', 10: 'no_cut', 11: 'finish', 12: 'sg_putt', 13: 'sg_arg', 14: 'sg_app', 15: 'sg_ott', 16: 'sg_t2g', 17: 'sg_total', 18: 'city', 19: 'state', 20: 'position'}\n"
     ]
    }
   ],
   "source": [
    "#change order of columns in df to make logical sense to reader as they read\n",
    "cols = pga_data.columns.tolist()\n",
    "colsdict = dict()\n",
    "for i in range(len(cols)):\n",
    "     colsdict[i] = cols[i]\n",
    "print(colsdict)\n",
    "cols_order = [1,5,0,6,8,7,18,19,9,10,11,20,4,3,2,12,13,14,15,16,17]\n",
    "cols = [cols[i] for i in cols_order]\n",
    "pga_data = pga_data[cols]"
   ]
  },
  {
   "cell_type": "code",
   "execution_count": 7,
   "metadata": {},
   "outputs": [
    {
     "name": "stdout",
     "output_type": "stream",
     "text": [
      "<class 'pandas.core.frame.DataFrame'>\n",
      "Int64Index: 3122 entries, 0 to 3675\n",
      "Data columns (total 21 columns):\n",
      " #   Column         Non-Null Count  Dtype         \n",
      "---  ------         --------------  -----         \n",
      " 0   player_id      3122 non-null   string        \n",
      " 1   player         3122 non-null   string        \n",
      " 2   tournament_id  3122 non-null   string        \n",
      " 3   tournament     3122 non-null   string        \n",
      " 4   date           3122 non-null   datetime64[ns]\n",
      " 5   course         3122 non-null   string        \n",
      " 6   city           3122 non-null   string        \n",
      " 7   state          3122 non-null   string        \n",
      " 8   purse          3122 non-null   float64       \n",
      " 9   no_cut         3122 non-null   bool          \n",
      " 10  finish         3084 non-null   string        \n",
      " 11  position       3084 non-null   float64       \n",
      " 12  made_cut       3122 non-null   bool          \n",
      " 13  rounds_played  3122 non-null   int64         \n",
      " 14  strokes        3122 non-null   int64         \n",
      " 15  sg_putt        2971 non-null   float64       \n",
      " 16  sg_arg         2971 non-null   float64       \n",
      " 17  sg_app         2971 non-null   float64       \n",
      " 18  sg_ott         2971 non-null   float64       \n",
      " 19  sg_t2g         2971 non-null   float64       \n",
      " 20  sg_total       2971 non-null   float64       \n",
      "dtypes: bool(2), datetime64[ns](1), float64(8), int64(2), string(8)\n",
      "memory usage: 493.9 KB\n",
      "None\n"
     ]
    }
   ],
   "source": [
    "pd.set_option('display.max_rows', 150)\n",
    "#Get an idea of the dataset information\n",
    "print(pga_data.info())"
   ]
  },
  {
   "cell_type": "markdown",
   "metadata": {},
   "source": [
    "### Issue with `sg_xxxx`, `position`, and `finish` columns\n",
    "\n",
    "As we can see, the `sg` fields have missing values for about 151 rows and there is no way to replace this data using the data in the DataFrame. For example, we could try to replace a certain player's `sg` null values with that player's average for that season, but this would be inaccurate information. This is the same case with `NaN` values in the position and finish columns.\n",
    "**These rows will therefore have to be removed.**"
   ]
  },
  {
   "cell_type": "code",
   "execution_count": 8,
   "metadata": {},
   "outputs": [
    {
     "name": "stdout",
     "output_type": "stream",
     "text": [
      "     player_id          player tournament_id                    tournament  \\\n",
      "390       3448  Dustin Johnson     401353227             AT&T Byron Nelson   \n",
      "649       3599    Brian Stuard     401353229                   Mexico Open   \n",
      "3533      3532  William McGirt     401353194  Sanderson Farms Championship   \n",
      "3217      3550   Gary Woodland     401353196           The CJ Cup @ Summit   \n",
      "260       3448  Dustin Johnson     401353226              PGA Championship   \n",
      "118      10906       Aaron Rai     401353225      Charles Schwab Challenge   \n",
      "3426       774       Bill Haas     401353194  Sanderson Farms Championship   \n",
      "123       1225    Brian Harman     401353225      Charles Schwab Challenge   \n",
      "1204      1225    Brian Harman     401353255          Valspar Championship   \n",
      "2370     11333    Greyson Sigg     401353233          The American Express   \n",
      "\n",
      "           date                       course           city   state  purse  \\\n",
      "390  2022-05-15              TPC Craig Ranch       McKinney      TX   9.10   \n",
      "649  2022-05-01             Vidanta Vallarta  Villa Hidalgo  Mexico   7.30   \n",
      "3533 2021-10-03      Country Club of Jackson        Jackson      MS   7.00   \n",
      "3217 2021-10-17              The Summit Club      Las Vegas      NV   9.75   \n",
      "260  2022-05-22  Southern Hills Country Club          Tulsa      OK  15.00   \n",
      "118  2022-05-29                     Colonial      Ft. Worth      TX   8.40   \n",
      "3426 2021-10-03      Country Club of Jackson        Jackson      MS   7.00   \n",
      "123  2022-05-29                     Colonial      Ft. Worth      TX   8.40   \n",
      "1204 2022-03-20                   Innisbrook    Palm Harbor      FL   7.80   \n",
      "2370 2022-01-23                 La Quinta CC      La Quinta      CA   7.60   \n",
      "\n",
      "      no_cut  ... position  made_cut  rounds_played  strokes  sg_putt  sg_arg  \\\n",
      "390    False  ...     59.0      True              4      276    -0.92   -0.07   \n",
      "649    False  ...     42.0      True              4      278    -0.29    0.83   \n",
      "3533   False  ...     17.0      True              4      272     0.40    1.12   \n",
      "3217    True  ...      9.0      True              4      268    -0.15    0.13   \n",
      "260    False  ...      0.0     False              2      146    -1.66    0.28   \n",
      "118    False  ...     68.0      True              4      289    -0.60   -0.34   \n",
      "3426   False  ...      0.0     False              2      141    -0.61    0.47   \n",
      "123    False  ...      0.0     False              2      143    -0.04    0.96   \n",
      "1204   False  ...      5.0      True              4      270     1.90   -0.59   \n",
      "2370   False  ...     25.0      True              4      276     0.69    0.27   \n",
      "\n",
      "      sg_app  sg_ott  sg_t2g  sg_total  \n",
      "390     0.69    0.33    0.95      0.03  \n",
      "649     0.89   -0.74    0.98      0.69  \n",
      "3533    0.53   -0.34    1.30      1.71  \n",
      "3217    0.21    1.25    1.58      1.43  \n",
      "260     1.96   -0.87    1.37     -0.28  \n",
      "118    -0.05   -0.39   -0.78     -1.38  \n",
      "3426   -0.48    0.28    0.27     -0.34  \n",
      "123    -2.04   -0.08   -1.16     -1.20  \n",
      "1204    0.82    0.61    0.84      2.75  \n",
      "2370    0.18    0.16    0.61      1.24  \n",
      "\n",
      "[10 rows x 21 columns]\n",
      "<class 'pandas.core.frame.DataFrame'>\n",
      "Int64Index: 2971 entries, 0 to 3675\n",
      "Data columns (total 21 columns):\n",
      " #   Column         Non-Null Count  Dtype         \n",
      "---  ------         --------------  -----         \n",
      " 0   player_id      2971 non-null   string        \n",
      " 1   player         2971 non-null   string        \n",
      " 2   tournament_id  2971 non-null   string        \n",
      " 3   tournament     2971 non-null   string        \n",
      " 4   date           2971 non-null   datetime64[ns]\n",
      " 5   course         2971 non-null   string        \n",
      " 6   city           2971 non-null   string        \n",
      " 7   state          2971 non-null   string        \n",
      " 8   purse          2971 non-null   float64       \n",
      " 9   no_cut         2971 non-null   bool          \n",
      " 10  finish         2971 non-null   string        \n",
      " 11  position       2971 non-null   float64       \n",
      " 12  made_cut       2971 non-null   bool          \n",
      " 13  rounds_played  2971 non-null   int64         \n",
      " 14  strokes        2971 non-null   int64         \n",
      " 15  sg_putt        2971 non-null   float64       \n",
      " 16  sg_arg         2971 non-null   float64       \n",
      " 17  sg_app         2971 non-null   float64       \n",
      " 18  sg_ott         2971 non-null   float64       \n",
      " 19  sg_t2g         2971 non-null   float64       \n",
      " 20  sg_total       2971 non-null   float64       \n",
      "dtypes: bool(2), datetime64[ns](1), float64(8), int64(2), string(8)\n",
      "memory usage: 470.0 KB\n",
      "None\n",
      "             purse     position  rounds_played      strokes      sg_putt  \\\n",
      "count  2971.000000  2971.000000    2971.000000  2971.000000  2971.000000   \n",
      "mean      9.436520    18.499832       3.119488   220.500168    -0.122383   \n",
      "std       3.212677    22.767798       0.989606    66.932522     1.070952   \n",
      "min       7.000000     0.000000       1.000000    67.000000    -5.270000   \n",
      "25%       7.500000     0.000000       2.000000   146.000000    -0.760000   \n",
      "50%       8.200000     5.000000       4.000000   270.000000    -0.090000   \n",
      "75%       9.750000    35.000000       4.000000   280.000000     0.595000   \n",
      "max      20.000000    83.000000       4.000000   307.000000     3.480000   \n",
      "\n",
      "            sg_arg       sg_app       sg_ott       sg_t2g     sg_total  \n",
      "count  2971.000000  2971.000000  2971.000000  2971.000000  2971.000000  \n",
      "mean     -0.035072    -0.113349    -0.040720    -0.189175    -0.289061  \n",
      "std       0.738435     1.122868     0.778425     1.643609     1.862498  \n",
      "min      -4.540000    -5.500000    -5.040000    -8.130000   -10.340000  \n",
      "25%      -0.470000    -0.760000    -0.440000    -1.080000    -1.320000  \n",
      "50%       0.010000    -0.010000     0.030000    -0.050000    -0.150000  \n",
      "75%       0.440000     0.660000     0.480000     0.940000     0.950000  \n",
      "max       2.960000     3.710000     2.220000     4.330000     4.590000  \n",
      "Number of unique tournaments played: 25\n",
      "Number of unique players: 296\n"
     ]
    }
   ],
   "source": [
    "pga_data = pga_data[(pga_data.sg_total.notnull()) & (pga_data.position.notnull()) & (pga_data.finish.notnull())]\n",
    "print(pga_data.sample(10))\n",
    "print(pga_data.info())\n",
    "print(pga_data.describe())\n",
    "print('Number of unique tournaments played:',pga_data['tournament'].nunique())\n",
    "print('Number of unique players:',pga_data.player.nunique())"
   ]
  },
  {
   "cell_type": "markdown",
   "metadata": {},
   "source": [
    "We have a total of 20 columns, 8 `str` type, 10 `numeric` type where we can do our analysis, and 2 of `bool` type."
   ]
  },
  {
   "cell_type": "markdown",
   "metadata": {},
   "source": [
    "## YAYYYY!\n",
    "\n",
    "#### We are now ready to perform analysis on our clean and tidy dataset!"
   ]
  },
  {
   "cell_type": "code",
   "execution_count": 9,
   "metadata": {},
   "outputs": [
    {
     "name": "stdout",
     "output_type": "stream",
     "text": [
      "Stored 'pga_data' (DataFrame)\n"
     ]
    }
   ],
   "source": [
    "pga_data.to_csv('pgatour_22_cleaned.csv')\n",
    "%store pga_data"
   ]
  }
 ],
 "metadata": {
  "kernelspec": {
   "display_name": "Python 3",
   "language": "python",
   "name": "python3"
  },
  "language_info": {
   "codemirror_mode": {
    "name": "ipython",
    "version": 3
   },
   "file_extension": ".py",
   "mimetype": "text/x-python",
   "name": "python",
   "nbconvert_exporter": "python",
   "pygments_lexer": "ipython3",
   "version": "3.7.3"
  }
 },
 "nbformat": 4,
 "nbformat_minor": 4
}
