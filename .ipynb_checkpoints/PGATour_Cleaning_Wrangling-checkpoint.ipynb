{
 "cells": [
  {
   "cell_type": "markdown",
   "metadata": {},
   "source": [
    "# Analysing statistics for PGA Tour players in the 2022 season\n",
    "\n",
    "In this notebook, I will be using data from __[Advanced Sports Analytics](https://www.advancedsportsanalytics.com/pga-raw-data)__ to look at different statistics for PGA Tour players in the 2022 season. "
   ]
  },
  {
   "cell_type": "markdown",
   "metadata": {},
   "source": [
    "0. The first step is to import the necessary libraries for our analysis"
   ]
  },
  {
   "cell_type": "code",
   "execution_count": 1,
   "metadata": {},
   "outputs": [
    {
     "name": "stderr",
     "output_type": "stream",
     "text": [
      "C:\\Users\\zains\\Anaconda3\\lib\\site-packages\\pandas\\compat\\_optional.py:138: UserWarning: Pandas requires version '2.7.0' or newer of 'numexpr' (version '2.6.9' currently installed).\n",
      "  warnings.warn(msg, UserWarning)\n"
     ]
    }
   ],
   "source": [
    "import pandas as pd\n",
    "import numpy as np\n",
    "import matplotlib as mpl\n",
    "import matplotlib.pyplot as plt\n",
    "import seaborn as sns\n",
    "import datetime"
   ]
  },
  {
   "cell_type": "markdown",
   "metadata": {},
   "source": [
    "1. The next step is to import the data and inspect it to look at the different columns, data types, and to check for null values. "
   ]
  },
  {
   "cell_type": "code",
   "execution_count": 2,
   "metadata": {},
   "outputs": [
    {
     "name": "stdout",
     "output_type": "stream",
     "text": [
      "  Player_initial_last  tournament id  player id  hole_par  strokes  hole_DKP  \\\n",
      "0            A. Ancer      401353224       9261       288      289      60.0   \n",
      "1           A. Hadwin      401353224       5548       288      286      72.5   \n",
      "2           A. Lahiri      401353224       4989       144      147      21.5   \n",
      "3             A. Long      401353224       6015       144      151      20.5   \n",
      "4            A. Noren      401353224       3832       144      148      23.5   \n",
      "\n",
      "   hole_FDP  hole_SDP  streak_DKP  streak_FDP  ...  purse  season  no_cut  \\\n",
      "0      51.1        56           3         7.6  ...   12.0    2022       0   \n",
      "1      61.5        61           8        13.0  ...   12.0    2022       0   \n",
      "2      17.4        27           0         0.0  ...   12.0    2022       0   \n",
      "3      13.6        17           0         0.4  ...   12.0    2022       0   \n",
      "4      18.1        23           0         1.2  ...   12.0    2022       0   \n",
      "\n",
      "   Finish  sg_putt  sg_arg  sg_app  sg_ott  sg_t2g  sg_total  \n",
      "0     T32     0.20   -0.13   -0.08    0.86    0.65      0.85  \n",
      "1     T18     0.36    0.75    0.31    0.18    1.24      1.60  \n",
      "2     CUT    -0.56    0.74   -1.09    0.37    0.02     -0.54  \n",
      "3     CUT    -1.46   -1.86   -0.02    0.80   -1.08     -2.54  \n",
      "4     CUT     0.53   -0.36   -1.39    0.19   -1.56     -1.04  \n",
      "\n",
      "[5 rows x 37 columns]\n",
      "Player_initial_last     object\n",
      "tournament id            int64\n",
      "player id                int64\n",
      "hole_par                 int64\n",
      "strokes                  int64\n",
      "hole_DKP               float64\n",
      "hole_FDP               float64\n",
      "hole_SDP                 int64\n",
      "streak_DKP               int64\n",
      "streak_FDP             float64\n",
      "streak_SDP               int64\n",
      "n_rounds                 int64\n",
      "made_cut                 int64\n",
      "pos                    float64\n",
      "finish_DKP               int64\n",
      "finish_FDP               int64\n",
      "finish_SDP               int64\n",
      "total_DKP              float64\n",
      "total_FDP              float64\n",
      "total_SDP                int64\n",
      "player                  object\n",
      "Unnamed: 2             float64\n",
      "Unnamed: 3             float64\n",
      "Unnamed: 4             float64\n",
      "tournament name         object\n",
      "course                  object\n",
      "date                    object\n",
      "purse                  float64\n",
      "season                   int64\n",
      "no_cut                   int64\n",
      "Finish                  object\n",
      "sg_putt                float64\n",
      "sg_arg                 float64\n",
      "sg_app                 float64\n",
      "sg_ott                 float64\n",
      "sg_t2g                 float64\n",
      "sg_total               float64\n",
      "dtype: object\n",
      "----------------------------------------------------------------------------------------------------\n",
      "Null values in each column:\n",
      "Player_initial_last        0\n",
      "tournament id              0\n",
      "player id                  0\n",
      "hole_par                   0\n",
      "strokes                    0\n",
      "hole_DKP                   0\n",
      "hole_FDP                   0\n",
      "hole_SDP                   0\n",
      "streak_DKP                 0\n",
      "streak_FDP                 0\n",
      "streak_SDP                 0\n",
      "n_rounds                   0\n",
      "made_cut                   0\n",
      "pos                    10487\n",
      "finish_DKP                 0\n",
      "finish_FDP                 0\n",
      "finish_SDP                 0\n",
      "total_DKP                  0\n",
      "total_FDP                  0\n",
      "total_SDP                  0\n",
      "player                     0\n",
      "Unnamed: 2             23780\n",
      "Unnamed: 3             23780\n",
      "Unnamed: 4             23780\n",
      "tournament name            0\n",
      "course                     0\n",
      "date                       0\n",
      "purse                      0\n",
      "season                     0\n",
      "no_cut                     0\n",
      "Finish                  3860\n",
      "sg_putt                 3861\n",
      "sg_arg                  3861\n",
      "sg_app                  3861\n",
      "sg_ott                  3861\n",
      "sg_t2g                  3861\n",
      "sg_total                3860\n",
      "dtype: int64\n"
     ]
    }
   ],
   "source": [
    "# Import the data into a pandas dataframe\n",
    "pga_data = pd.read_csv('pgatour_18to22.csv')\n",
    "#Print the first 5 rows the data to see how the data is arranged into rows and columns\n",
    "print(pga_data.head())\n",
    "#Print the data types of our columns\n",
    "print(pga_data.dtypes)\n",
    "#Print the number of null values in each column\n",
    "print('-'*100)\n",
    "print('Null values in each column:')\n",
    "print(pga_data.isna().sum())"
   ]
  },
  {
   "cell_type": "code",
   "execution_count": 3,
   "metadata": {},
   "outputs": [
    {
     "name": "stdout",
     "output_type": "stream",
     "text": [
      "0      Abraham Ancer\n",
      "1        Adam Hadwin\n",
      "2     Anirban Lahiri\n",
      "3          Adam Long\n",
      "4    Alexander Noren\n",
      "Name: player, dtype: object\n",
      "0     A. Ancer\n",
      "1    A. Hadwin\n",
      "2    A. Lahiri\n",
      "3      A. Long\n",
      "4     A. Noren\n",
      "Name: Player_initial_last, dtype: object\n",
      "----------------------------------------------------------------------------------------------------\n",
      "Number of unique tournaments played: 67\n",
      "Number of unique players: 499\n"
     ]
    }
   ],
   "source": [
    "#Check the player column to see the data it gives us, as we also have a player_intial_last column\n",
    "print(pga_data.player.head())\n",
    "print(pga_data.Player_initial_last.head())\n",
    "print('-'*100)\n",
    "#Get the number of tournaments we have information about\n",
    "print('Number of unique tournaments played:',pga_data['tournament name'].nunique())\n",
    "print('Number of unique players:',pga_data.player.nunique())"
   ]
  },
  {
   "cell_type": "markdown",
   "metadata": {
    "tags": []
   },
   "source": [
    "## Data Info\n",
    "\n",
    "1. It looks like we have 37 columns with information about 67 tournaments and 499 players from the 2018-2022 season.\n",
    " \n",
    "    1. `hole_par` tells us whether the hole was a par 3, par 4, or par 5 (How many strokes a player needs to make on a hole to stay even with the course).\n",
    "    2. `strokes` tells us the number of strokes the player made on the hole. For example, if a player makes 6 strokes on a par 4, their score for the hole is +2, or 2 strokes over par!\n",
    "    3. `num_rounds` tells us the number of rounds the player played in a certain tournament. It usually has values of either 2 or 4 (explanation below).\n",
    "    4. `made_cut` tells us whether a player made the *cut* (1) or not (0). PGA Tour events last 4 days and the playing field is **cut** in half after the end of the 2nd day, meaning players that *made the cut* play 4 rounds, but players that do not make the cut play 2 rounds. It could be that a player was disqualified or had to withdraw during the 1st or 3rd round, but values of 1 or 3 in `num_rounds` would be rare (good to be aware of them though!).\n",
    "    5. `pos` tells us the position the player finished at the end of the tournament in `float` form, so if a player did not make the cut, it gives a `NaN` value.\n",
    "    6. `date` gives us the date (normal `yyyy-mm-dd` form) on which a certain row gives information about.\n",
    "    7. `purse` is the prize money for the tournament.\n",
    "    8. `no_cut` tell us whether a tournament had a cut or not, this information is somewhat important as most tournaments **do** have cuts, so we might want to filter these out.\n",
    "    9. `Finish` gives the same information as `pos`, but displays the information in a way familiar to golfers (CUT meaning the player didn't make the cut, Tnum meaning the player tied for num-th place.)\n",
    "    10. `sg-` means **strokes gained** and is a comparison of the player's performance with the rest of the field (Please see https://www.pgatour.com/news/2016/05/31/strokes-gained-defined.html)\n",
    "        1. `sg_putt` means strokes gained putting.\n",
    "        2. `sg_arg` means strokes gained around the green (within 30 yards of green) (the *green* is the surface where the hole is located).\n",
    "        3. `sg_agg` means strokes gained approach the green (any shot hit towards the green that is not a tee shot on a par 4 or par 5, but includes tee shots on par 3s) (a tee shot is the first shot on any hole).\n",
    "        4. `sg_ott` means strokes gained off the tee.\n",
    "        5. `sg_t2g` means strokes gained tee to green (`sg_t2g = sg_arg + sg_agg + sg_ott`)\n",
    "        6. `sg_total = sg_t2g + sg_putt`"
   ]
  },
  {
   "cell_type": "markdown",
   "metadata": {},
   "source": [
    "## Data Cleaning strategy\n",
    "\n",
    "1. The naming of the columns is very inconsistent as some column names have title style while some do not, some contain underscores while some do not etc. The naming will have to be fixed. Some of the names of the columns also do not do a great job of explaining what the columns values are representing, especially for non-golfing audiences.\n",
    "\n",
    "2. The columns that contain the three letter acronyms *FDP, DKP, SDP* have to do with Draft King / Fantasy Drafts, i.e. leagues where followers of the tour can select players to be in their 'fantasy team' and see who gets the most points. This data is of little use to my analysis here as we are MOSTLY INTERESTED IN THE STATS OF THE PLAYERS THEMSELVES.\n",
    "**These columns (12) will be removed**\n",
    "\n",
    "3. We have columns in the form `Unnamed: number` which only contain null values.\n",
    "**These columns (3) will also be removed**\n",
    "\n",
    "4. There are 2 columns containing information about the Players name: `Player_initial_last` and `Player`.\n",
    "**This is giving us redundant information and can definitely be reduced into one column or two columns containing a forename and surname**\n",
    "\n",
    "5. `pos` and `Finish` give us the same information as different data types, but it easier working with numeric data types. Whether a player ties for 2nd place or comes solo 2nd is not of much importance to us. If `made_cut` is False, then the `pos` is `NaN`.\n",
    "**`Finish` can therefore be removed, a column containing information about whether the position is tied or solo can be added**"
   ]
  },
  {
   "cell_type": "code",
   "execution_count": 4,
   "metadata": {},
   "outputs": [],
   "source": [
    "# Remove columns with the fantasy leagues information\n",
    "pga_data = pga_data[pga_data.columns.drop(list(pga_data.filter(regex=\\\n",
    "                                                               '(hole|streak|finish|total)\\_[DFS][KD]P')))]\n",
    "pga_data = pga_data[pga_data.columns.drop(list(pga_data.filter(regex='Unnamed: \\d')))]\n",
    "\n",
    "#Manipulate the player name columns to remove redunadant information\n",
    "forename_lastname = pga_data.player.str.split(' ')\n",
    "pga_data['player_forename'] = forename_lastname.str.get(0).astype('string')\n",
    "pga_data['player_surname'] = forename_lastname.str.get(1).astype('string')"
   ]
  },
  {
   "cell_type": "code",
   "execution_count": 5,
   "metadata": {},
   "outputs": [],
   "source": [
    "pga_data['tied'] = pga_data.Finish.apply(lambda x: True if str(x)[0] == 'T' else \\\n",
    "                                         (np.nan if str(x) == 'CUT' else False))\n",
    "pga_data['made_cut'] = pga_data.made_cut.replace([0, 1], [False, True])\n",
    "pga_data['tournament name'] = pga_data['tournament name'].astype('string')\n",
    "pga_data['course'] = pga_data.course.astype('string')\n",
    "pga_data['date'] = pd.to_datetime(pga_data.date)"
   ]
  },
  {
   "cell_type": "code",
   "execution_count": 6,
   "metadata": {},
   "outputs": [],
   "source": [
    "pga_data = pga_data.rename(columns = {'tournament id': 'tournament_id', 'player id': 'player_id',\\\n",
    "                                     'n_rounds': 'rounds_played','pos': 'position',\\\n",
    "                                      'tournament name': 'tournament'})\n",
    "pga_data = pga_data.drop(columns = ['player','Finish','Player_initial_last'])"
   ]
  },
  {
   "cell_type": "code",
   "execution_count": 7,
   "metadata": {},
   "outputs": [
    {
     "name": "stdout",
     "output_type": "stream",
     "text": [
      "<class 'pandas.core.frame.DataFrame'>\n",
      "RangeIndex: 23780 entries, 0 to 23779\n",
      "Data columns (total 22 columns):\n",
      " #   Column           Non-Null Count  Dtype         \n",
      "---  ------           --------------  -----         \n",
      " 0   tournament_id    23780 non-null  int64         \n",
      " 1   player_id        23780 non-null  int64         \n",
      " 2   hole_par         23780 non-null  int64         \n",
      " 3   strokes          23780 non-null  int64         \n",
      " 4   rounds_played    23780 non-null  int64         \n",
      " 5   made_cut         23780 non-null  bool          \n",
      " 6   position         13293 non-null  float64       \n",
      " 7   tournament       23780 non-null  string        \n",
      " 8   course           23780 non-null  string        \n",
      " 9   date             23780 non-null  datetime64[ns]\n",
      " 10  purse            23780 non-null  float64       \n",
      " 11  season           23780 non-null  int64         \n",
      " 12  no_cut           23780 non-null  int64         \n",
      " 13  sg_putt          19919 non-null  float64       \n",
      " 14  sg_arg           19919 non-null  float64       \n",
      " 15  sg_app           19919 non-null  float64       \n",
      " 16  sg_ott           19919 non-null  float64       \n",
      " 17  sg_t2g           19919 non-null  float64       \n",
      " 18  sg_total         19920 non-null  float64       \n",
      " 19  player_forename  23780 non-null  string        \n",
      " 20  player_surname   23780 non-null  string        \n",
      " 21  tied             15271 non-null  object        \n",
      "dtypes: bool(1), datetime64[ns](1), float64(8), int64(7), object(1), string(4)\n",
      "memory usage: 3.8+ MB\n",
      "None\n",
      "   tournament_id  player_id  hole_par  strokes  rounds_played  made_cut  \\\n",
      "0      401353224       9261       288      289              4      True   \n",
      "1      401353224       5548       288      286              4      True   \n",
      "2      401353224       4989       144      147              2     False   \n",
      "3      401353224       6015       144      151              2     False   \n",
      "4      401353224       3832       144      148              2     False   \n",
      "\n",
      "   position                                   tournament  \\\n",
      "0      32.0  The Memorial Tournament pres. by Nationwide   \n",
      "1      18.0  The Memorial Tournament pres. by Nationwide   \n",
      "2       NaN  The Memorial Tournament pres. by Nationwide   \n",
      "3       NaN  The Memorial Tournament pres. by Nationwide   \n",
      "4       NaN  The Memorial Tournament pres. by Nationwide   \n",
      "\n",
      "                                     course       date  ...  no_cut  sg_putt  \\\n",
      "0  Muirfield Village Golf Club - Dublin, OH 2022-06-05  ...       0     0.20   \n",
      "1  Muirfield Village Golf Club - Dublin, OH 2022-06-05  ...       0     0.36   \n",
      "2  Muirfield Village Golf Club - Dublin, OH 2022-06-05  ...       0    -0.56   \n",
      "3  Muirfield Village Golf Club - Dublin, OH 2022-06-05  ...       0    -1.46   \n",
      "4  Muirfield Village Golf Club - Dublin, OH 2022-06-05  ...       0     0.53   \n",
      "\n",
      "   sg_arg  sg_app  sg_ott  sg_t2g  sg_total  player_forename  player_surname  \\\n",
      "0   -0.13   -0.08    0.86    0.65      0.85          Abraham           Ancer   \n",
      "1    0.75    0.31    0.18    1.24      1.60             Adam          Hadwin   \n",
      "2    0.74   -1.09    0.37    0.02     -0.54          Anirban          Lahiri   \n",
      "3   -1.86   -0.02    0.80   -1.08     -2.54             Adam            Long   \n",
      "4   -0.36   -1.39    0.19   -1.56     -1.04        Alexander           Noren   \n",
      "\n",
      "   tied  \n",
      "0  True  \n",
      "1  True  \n",
      "2   NaN  \n",
      "3   NaN  \n",
      "4   NaN  \n",
      "\n",
      "[5 rows x 22 columns]\n"
     ]
    }
   ],
   "source": [
    "print(pga_data.info())\n",
    "print(pga_data.head())"
   ]
  },
  {
   "cell_type": "code",
   "execution_count": 8,
   "metadata": {},
   "outputs": [
    {
     "name": "stdout",
     "output_type": "stream",
     "text": [
      "0    [Muirfield Village Golf Club ,  Dublin, OH]\n",
      "1    [Muirfield Village Golf Club ,  Dublin, OH]\n",
      "2    [Muirfield Village Golf Club ,  Dublin, OH]\n",
      "3    [Muirfield Village Golf Club ,  Dublin, OH]\n",
      "4    [Muirfield Village Golf Club ,  Dublin, OH]\n",
      "Name: course, dtype: object\n",
      "0         Dublin, OH\n",
      "1         Dublin, OH\n",
      "2         Dublin, OH\n",
      "3         Dublin, OH\n",
      "4         Dublin, OH\n",
      "            ...     \n",
      "23775       Napa, CA\n",
      "23776       Napa, CA\n",
      "23777       Napa, CA\n",
      "23778       Napa, CA\n",
      "23779       Napa, CA\n",
      "Name: course, Length: 23780, dtype: object\n",
      "0        [ Dublin,  OH]\n",
      "1        [ Dublin,  OH]\n",
      "2        [ Dublin,  OH]\n",
      "3        [ Dublin,  OH]\n",
      "4        [ Dublin,  OH]\n",
      "              ...      \n",
      "23775      [ Napa,  CA]\n",
      "23776      [ Napa,  CA]\n",
      "23777      [ Napa,  CA]\n",
      "23778      [ Napa,  CA]\n",
      "23779      [ Napa,  CA]\n",
      "Name: course, Length: 23780, dtype: object\n"
     ]
    }
   ],
   "source": [
    "course_data = pga_data.course.str.split('-')\n",
    "print(course_data.head())\n",
    "pga_data.course = course_data.str.get(0).str.strip().astype('string')\n",
    "city_state = course_data.str.get(1)\n",
    "city_state = city_state.str.split(',')\n",
    "pga_data['city'] = city_state.str.get(0).str.strip().astype('string')\n",
    "pga_data['state'] = city_state.str.get(1).str.strip().astype('string')\n",
    "#print(pga_data.course.head())\n",
    "#print(pga_data.city.head())\n",
    "#print(pga_data.state.head())"
   ]
  }
 ],
 "metadata": {
  "kernelspec": {
   "display_name": "Python 3",
   "language": "python",
   "name": "python3"
  },
  "language_info": {
   "codemirror_mode": {
    "name": "ipython",
    "version": 3
   },
   "file_extension": ".py",
   "mimetype": "text/x-python",
   "name": "python",
   "nbconvert_exporter": "python",
   "pygments_lexer": "ipython3",
   "version": "3.7.3"
  }
 },
 "nbformat": 4,
 "nbformat_minor": 4
}
